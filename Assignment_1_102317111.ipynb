{
  "nbformat": 4,
  "nbformat_minor": 0,
  "metadata": {
    "colab": {
      "provenance": []
    },
    "kernelspec": {
      "name": "python3",
      "display_name": "Python 3"
    },
    "language_info": {
      "name": "python"
    }
  },
  "cells": [
    {
      "cell_type": "markdown",
      "source": [
        "#  \n",
        "# <center>ESHAAN SINGLA</center>\n",
        "# <center>102317111</center>\n",
        "# <center>3Q15</center>"
      ],
      "metadata": {
        "id": "uDLvMVuhVBGq"
      }
    },
    {
      "cell_type": "code",
      "execution_count": null,
      "metadata": {
        "id": "I24co5mGU1dV"
      },
      "outputs": [],
      "source": [
        "import numpy as np"
      ]
    },
    {
      "cell_type": "code",
      "source": [
        "arr = np.array([1, 2, 3, 6, 4, 5])\n",
        "arr=arr[::-1]\n",
        "print(arr)\n",
        "\n",
        "array1 = np.array([[1, 2, 3], [2, 4, 5], [1, 2, 3]])\n",
        "flat_1=array1.flatten()\n",
        "print(flat_1)\n",
        "flat_2=array1.ravel()\n",
        "print(flat_2)\n",
        "\n",
        "arr1 = np.array([[1, 2], [3, 4]])\n",
        "arr2 = np.array([[1, 2], [3, 4]])\n",
        "print(arr1==arr2)\n",
        "print(np.array_equal(arr1, arr2))\n",
        "\n",
        "\n",
        "x = np.array([1,2,3,4,5,1,2,1,1,1])\n",
        "y = np.array([1, 1, 1, 2, 3, 4, 2, 4, 3, 3, ])\n",
        "x_val=np.bincount(x).argmax()\n",
        "x_ind=np.where(x==x_val)\n",
        "y_val=np.bincount(y).argmax()\n",
        "y_ind=np.where(y==y_val)\n",
        "print(x_ind,x_val)\n",
        "print(y_ind,y_val)\n",
        "\n",
        "gfg = np.matrix('[4, 1, 9; 12, 3, 1; 4, 5, 6]')\n",
        "print(gfg)\n",
        "sum_gfg=np.sum(gfg)\n",
        "print(sum_gfg)\n",
        "row_sum_gfg=np.sum(gfg,axis=1)\n",
        "print(row_sum_gfg)\n",
        "col_sum_gfg=np.sum(gfg,axis=0)\n",
        "print(col_sum_gfg)\n",
        "\n",
        "n_array = np.array([[55, 25, 15],[30, 44, 2],[11, 45, 77]])\n",
        "diag_sum=np.trace(n_array)\n",
        "eig_vals, eig_vecs = np.linalg.eig(n_array)\n",
        "inv_matrix = np.linalg.inv(n_array)\n",
        "det_matrix = np.linalg.det(n_array)\n",
        "print(diag_sum)\n",
        "print(eig_vals)\n",
        "print(eig_vecs)\n",
        "print(inv_matrix)\n",
        "print(det_matrix)\n",
        "\n",
        "p = [[1, 2], [2, 3]]\n",
        "q = [[4, 5], [6, 7]]\n",
        "dot_pq=np.dot(p,q)\n",
        "print(dot_pq)\n",
        "print(np.cov(np.array(p).T,np.array(q).T))\n",
        "p1 = [[1, 2], [2, 3], [4, 5]]\n",
        "q1 = [[4, 5, 1], [6, 7, 2]]\n",
        "dot_pq1=np.dot(p1,q1)\n",
        "print(dot_pq1)\n",
        "print(np.cov(np.array(p1).T,np.array(q1)))\n",
        "\n",
        "x = np.array([[2, 3, 4], [3, 2, 9]])\n",
        "y = np.array([[1, 5, 0], [5, 10, 3]])\n",
        "inner = np.inner(x, y)\n",
        "outer = np.outer(x.flatten(), y.flatten())\n",
        "\n",
        "from itertools import product\n",
        "cartesian = np.array(list(product(x.flatten(), y.flatten())))\n",
        "\n",
        "print(inner)\n",
        "print(outer)\n",
        "print(cartesian)"
      ],
      "metadata": {
        "colab": {
          "base_uri": "https://localhost:8080/"
        },
        "id": "YM1QXMkzVZPr",
        "outputId": "e3f4b3a0-1fc3-4755-e10b-a6b086cf06d0"
      },
      "execution_count": null,
      "outputs": [
        {
          "output_type": "stream",
          "name": "stdout",
          "text": [
            "[5 4 6 3 2 1]\n",
            "[1 2 3 2 4 5 1 2 3]\n",
            "[1 2 3 2 4 5 1 2 3]\n",
            "[[ True  True]\n",
            " [ True  True]]\n",
            "True\n",
            "(array([0, 5, 7, 8, 9]),) 1\n",
            "(array([0, 1, 2]),) 1\n",
            "[[ 4  1  9]\n",
            " [12  3  1]\n",
            " [ 4  5  6]]\n",
            "45\n",
            "[[14]\n",
            " [16]\n",
            " [15]]\n",
            "[[20  9 16]]\n",
            "176\n",
            "[98.16835147 28.097044   49.73460452]\n",
            "[[ 0.4574917   0.34637121 -0.15017693]\n",
            " [ 0.28447814 -0.72784061 -0.4852124 ]\n",
            " [ 0.84248058  0.59184038  0.8614034 ]]\n",
            "[[ 0.02404141 -0.00911212 -0.00444671]\n",
            " [-0.01667882  0.02966905  0.0024785 ]\n",
            " [ 0.00631287 -0.01603732  0.01217379]]\n",
            "137180.0000000001\n",
            "[[16 19]\n",
            " [26 31]]\n",
            "[[0.5 0.5 1.  1. ]\n",
            " [0.5 0.5 1.  1. ]\n",
            " [1.  1.  2.  2. ]\n",
            " [1.  1.  2.  2. ]]\n",
            "[[16 19  5]\n",
            " [26 31  8]\n",
            " [46 55 14]]\n",
            "[[ 2.33333333  2.33333333 -2.66666667 -3.5       ]\n",
            " [ 2.33333333  2.33333333 -2.66666667 -3.5       ]\n",
            " [-2.66666667 -2.66666667  4.33333333  5.5       ]\n",
            " [-3.5        -3.5         5.5         7.        ]]\n",
            "[[17 52]\n",
            " [13 62]]\n",
            "[[ 2 10  0 10 20  6]\n",
            " [ 3 15  0 15 30  9]\n",
            " [ 4 20  0 20 40 12]\n",
            " [ 3 15  0 15 30  9]\n",
            " [ 2 10  0 10 20  6]\n",
            " [ 9 45  0 45 90 27]]\n",
            "[[ 2  1]\n",
            " [ 2  5]\n",
            " [ 2  0]\n",
            " [ 2  5]\n",
            " [ 2 10]\n",
            " [ 2  3]\n",
            " [ 3  1]\n",
            " [ 3  5]\n",
            " [ 3  0]\n",
            " [ 3  5]\n",
            " [ 3 10]\n",
            " [ 3  3]\n",
            " [ 4  1]\n",
            " [ 4  5]\n",
            " [ 4  0]\n",
            " [ 4  5]\n",
            " [ 4 10]\n",
            " [ 4  3]\n",
            " [ 3  1]\n",
            " [ 3  5]\n",
            " [ 3  0]\n",
            " [ 3  5]\n",
            " [ 3 10]\n",
            " [ 3  3]\n",
            " [ 2  1]\n",
            " [ 2  5]\n",
            " [ 2  0]\n",
            " [ 2  5]\n",
            " [ 2 10]\n",
            " [ 2  3]\n",
            " [ 9  1]\n",
            " [ 9  5]\n",
            " [ 9  0]\n",
            " [ 9  5]\n",
            " [ 9 10]\n",
            " [ 9  3]]\n"
          ]
        }
      ]
    },
    {
      "cell_type": "code",
      "source": [
        "array = np.array([[1, -2, 3],[-4, 5, -6]])\n",
        "abs_val = np.abs(array)\n",
        "\n",
        "flat_percentiles = np.percentile(array, [25, 50, 75])\n",
        "col_percentiles = np.percentile(array, [25, 50, 75], axis=0)\n",
        "row_percentiles = np.percentile(array, [25, 50, 75], axis=1)\n",
        "\n",
        "print(flat_percentiles)\n",
        "print(col_percentiles)\n",
        "print(row_percentiles)\n",
        "\n",
        "mean_flat = array.mean()\n",
        "median_flat = np.median(array)\n",
        "std_flat = array.std()\n",
        "\n",
        "print(mean_flat)\n",
        "print(median_flat)\n",
        "print(std_flat)\n",
        "\n",
        "mean_col = array.mean(axis=0)\n",
        "median_col = np.median(array, axis=0)\n",
        "std_col = array.std(axis=0)\n",
        "\n",
        "print(mean_col)\n",
        "print(median_col)\n",
        "print(std_col)\n",
        "\n",
        "mean_row = array.mean(axis=1)\n",
        "median_row = np.median(array, axis=1)\n",
        "std_row = array.std(axis=1)\n",
        "\n",
        "print(mean_row)\n",
        "print(median_row)\n",
        "print(std_row)\n",
        "\n",
        "a = np.array([-1.8, -1.6, -0.5, 0.5, 1.6, 1.8, 3.0])\n",
        "floors = np.floor(a)\n",
        "ceilings = np.ceil(a)\n",
        "truncs = np.trunc(a)\n",
        "rounds = np.round(a)\n",
        "\n",
        "print(floors)\n",
        "print(ceilings)\n",
        "print(truncs)\n",
        "print(rounds)"
      ],
      "metadata": {
        "colab": {
          "base_uri": "https://localhost:8080/"
        },
        "id": "1nNsBTs6cKKS",
        "outputId": "b0465af5-8782-417c-e065-7ca81dc447dc"
      },
      "execution_count": null,
      "outputs": [
        {
          "output_type": "stream",
          "name": "stdout",
          "text": [
            "[-3.5 -0.5  2.5]\n",
            "[[-2.75 -0.25 -3.75]\n",
            " [-1.5   1.5  -1.5 ]\n",
            " [-0.25  3.25  0.75]]\n",
            "[[-0.5 -5. ]\n",
            " [ 1.  -4. ]\n",
            " [ 2.   0.5]]\n",
            "-0.5\n",
            "-0.5\n",
            "3.8622100754188224\n",
            "[-1.5  1.5 -1.5]\n",
            "[-1.5  1.5 -1.5]\n",
            "[2.5 3.5 4.5]\n",
            "[ 0.66666667 -1.66666667]\n",
            "[ 1. -4.]\n",
            "[2.05480467 4.78423336]\n",
            "[-2. -2. -1.  0.  1.  1.  3.]\n",
            "[-1. -1. -0.  1.  2.  2.  3.]\n",
            "[-1. -1. -0.  0.  1.  1.  3.]\n",
            "[-2. -2. -0.  0.  2.  2.  3.]\n"
          ]
        }
      ]
    },
    {
      "cell_type": "code",
      "source": [
        "array = np.array([10, 52, 62, 16, 16, 54, 453])\n",
        "\n",
        "sorted_array=np.sort(array)\n",
        "print(sorted_array)\n",
        "sorted_indices = np.argsort(array)\n",
        "\n",
        "print(sorted_indices)\n",
        "print(sorted_array[:4])\n",
        "print(sorted_array[-5:])\n",
        "\n",
        "array2 = np.array([1.0, 1.2, 2.2, 2.0, 3.0, 2.0])\n",
        "int_elements = array2[array2 == array2.astype(int)]\n",
        "float_elements = array2[array2 != array2.astype(int)]\n",
        "\n",
        "print(int_elements)\n",
        "print(float_elements)"
      ],
      "metadata": {
        "colab": {
          "base_uri": "https://localhost:8080/"
        },
        "id": "yRGjBrxjcKHE",
        "outputId": "c3e140da-5dbd-4b8d-9381-90fe12e9077d"
      },
      "execution_count": null,
      "outputs": [
        {
          "output_type": "stream",
          "name": "stdout",
          "text": [
            "[ 10  16  16  52  54  62 453]\n",
            "[0 3 4 1 5 2 6]\n",
            "[10 16 16 52]\n",
            "[ 16  52  54  62 453]\n",
            "[1. 2. 3. 2.]\n",
            "[1.2 2.2]\n"
          ]
        }
      ]
    },
    {
      "cell_type": "code",
      "source": [
        "from PIL import Image\n",
        "import numpy as np\n",
        "\n",
        "def img_to_array(path):\n",
        "    img = Image.open(path)\n",
        "    if img.mode == 'RGB':\n",
        "        img_array = np.array(img)\n",
        "        np.savetxt('image_rgb.txt', img_array.reshape(-1, 3), fmt='%d')\n",
        "        print(\"Saved RGB image as image_rgb.txt\")\n",
        "    elif img.mode == 'L':\n",
        "        img_array = np.array(img)\n",
        "        np.savetxt('image_gray.txt', img_array, fmt='%d')\n",
        "        print(\"Saved Grayscale image as image_gray.txt\")\n",
        "    else:\n",
        "        print(f\"Unsupported image mode: {img.mode}\")\n",
        "\n",
        "img_to_array(\"image.png\")\n",
        "img_to_array(\"grey_image.png\")"
      ],
      "metadata": {
        "colab": {
          "base_uri": "https://localhost:8080/"
        },
        "id": "N6uhikuOajrP",
        "outputId": "261bc926-7e30-48fb-9b89-e5341856fc87"
      },
      "execution_count": null,
      "outputs": [
        {
          "output_type": "stream",
          "name": "stdout",
          "text": [
            "Saved RGB image as image_rgb.txt\n",
            "Saved RGB image as image_rgb.txt\n"
          ]
        }
      ]
    }
  ]
}